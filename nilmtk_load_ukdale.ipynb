{
 "cells": [
  {
   "cell_type": "code",
   "execution_count": 1,
   "id": "16c1db0c-4f48-4dbb-b530-131dda8c62b8",
   "metadata": {},
   "outputs": [
    {
     "name": "stdout",
     "output_type": "stream",
     "text": [
      "Done converting YAML metadata to HDF5!\n",
      "Loading house 1... 1 2 3 4 5 6 7 8 9 10 11 12 13 14 15 16 17 18 19 20 21 22 23 24 25 26 27 28 29 30 31 32 33 34 35 36 37 38 39 40 41 42 43 44 45 46 47 48 49 50 51 52 53 \n",
      "Loading house 2... 1 2 3 4 5 6 7 8 9 10 11 12 13 14 15 16 17 18 19 \n",
      "Loading house 3... 1 2 3 4 5 \n",
      "Loading house 4... 1 2 3 4 5 6 \n",
      "Loading house 5... 1 2 3 4 5 6 7 8 9 10 11 12 13 14 15 16 17 18 19 20 21 22 23 24 25 \n",
      "Done converting YAML metadata to HDF5!\n",
      "Loading 1-second data for /building1/elec/meter54 ...\n",
      "Loading 1-second data for /building2/elec/meter20 ...\n",
      "Loading 1-second data for /building5/elec/meter26 ...\n",
      "Done converting UK-DALE to HDF5!\n"
     ]
    }
   ],
   "source": [
    "from nilmtk.dataset_converters import convert_ukdale\n",
    "\n",
    "convert_ukdale('data/ukdale', 'data/ukdale.h5')"
   ]
  },
  {
   "cell_type": "code",
   "execution_count": null,
   "id": "bd82b7ab-4f79-465a-800e-105164f43716",
   "metadata": {},
   "outputs": [],
   "source": []
  }
 ],
 "metadata": {
  "kernelspec": {
   "display_name": "Python 3 (ipykernel)",
   "language": "python",
   "name": "python3"
  },
  "language_info": {
   "codemirror_mode": {
    "name": "ipython",
    "version": 3
   },
   "file_extension": ".py",
   "mimetype": "text/x-python",
   "name": "python",
   "nbconvert_exporter": "python",
   "pygments_lexer": "ipython3",
   "version": "3.10.6 (main, Aug 11 2022, 13:49:25) [Clang 13.1.6 (clang-1316.0.21.2.5)]"
  },
  "vscode": {
   "interpreter": {
    "hash": "aee8b7b246df8f9039afb4144a1f6fd8d2ca17a180786b69acc140d282b71a49"
   }
  }
 },
 "nbformat": 4,
 "nbformat_minor": 5
}
