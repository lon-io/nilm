{
 "cells": [
  {
   "cell_type": "code",
   "execution_count": 2,
   "metadata": {},
   "outputs": [],
   "source": [
    "import numpy as np\n",
    "import pandas as pd\n",
    "import matplotlib.pyplot as plt\n",
    "%matplotlib inline\n",
    "from IPython.display import display\n",
    "import datetime\n",
    "import time\n",
    "import math\n",
    "import warnings\n",
    "warnings.filterwarnings(\"ignore\")\n",
    "import glob"
   ]
  },
  {
   "cell_type": "code",
   "execution_count": 3,
   "metadata": {
    "scrolled": true
   },
   "outputs": [
    {
     "name": "stdout",
     "output_type": "stream",
     "text": [
      "House 1:  {1: 'aggregate_1', 2: 'boiler_2', 3: 'solar_thermal_pump_3', 4: 'laptop_4', 5: 'washing_machine_5', 6: 'dishwasher_6', 7: 'tv_7', 8: 'kitchen_lights_8', 9: 'htpc_9', 10: 'kettle_10', 11: 'toaster_11', 12: 'fridge_12', 13: 'microwave_13', 14: 'lcd_office_14', 15: 'hifi_office_15', 16: 'breadmaker_16', 17: 'amp_livingroom_17', 18: 'adsl_router_18', 19: 'livingroom_s_lamp_19', 20: 'soldering_iron_20', 21: 'gigE_&_USBhub_21', 22: 'hoover_22', 23: 'kitchen_dt_lamp_23', 24: 'bedroom_ds_lamp_24', 25: 'lighting_circuit_25', 26: 'livingroom_s_lamp2_26', 27: 'iPad_charger_27', 28: 'subwoofer_livingroom_28', 29: 'livingroom_lamp_tv_29', 30: 'DAB_radio_livingroom_30', 31: 'kitchen_lamp2_31', 32: 'kitchen_phone&stereo_32', 33: 'utilityrm_lamp_33', 34: 'samsung_charger_34', 35: 'bedroom_d_lamp_35', 36: 'coffee_machine_36', 37: 'kitchen_radio_37', 38: 'bedroom_chargers_38', 39: 'hair_dryer_39', 40: 'straighteners_40', 41: 'iron_41', 42: 'gas_oven_42', 43: 'data_logger_pc_43', 44: 'childs_table_lamp_44', 45: 'childs_ds_lamp_45', 46: 'baby_monitor_tx_46', 47: 'battery_charger_47', 48: 'office_lamp1_48', 49: 'office_lamp2_49', 50: 'office_lamp3_50', 51: 'office_pc_51', 52: 'office_fan_52', 53: 'LED_printer_53', 'mains': 'mains'} \n",
      "\n"
     ]
    }
   ],
   "source": [
    "def read_label():\n",
    "    label = {}\n",
    "    for i in range(1, 6):\n",
    "        hi = 'data/ukdale/house_{}/labels.dat'.format(i)\n",
    "        label[i] = {}\n",
    "        with open(hi) as f:\n",
    "            for line in f:\n",
    "                splitted_line = line.split(' ')\n",
    "                label[i][int(splitted_line[0])] = splitted_line[1].strip() + '_' + splitted_line[0]\n",
    "        label[i]['mains'] = 'mains'\n",
    "    return label\n",
    "labels = read_label()\n",
    "# for i in range(1,3):\n",
    "#     print('House {}: '.format(i), labels[i], '\\n')\n",
    "for i in range(1,2):\n",
    "    print('House {}: '.format(i), labels[i], '\\n')"
   ]
  },
  {
   "cell_type": "code",
   "execution_count": 4,
   "metadata": {},
   "outputs": [],
   "source": [
    "def read_merge_data(house):\n",
    "    path = 'data/ukdale/house_{}/'.format(house)\n",
    "    \n",
    "    file = path + 'channel_1.dat'\n",
    "    df = pd.read_table(file, sep = ' ', names = ['unix_time', labels[house][1]], \n",
    "                                       dtype = {'unix_time': 'int64', labels[house][1]:'float64'}) \n",
    "    df['timestamp'] = df['unix_time'].astype(\"datetime64[s]\")\n",
    "    \n",
    "#     file = path + 'mains.dat'\n",
    "#     df = pd.read_table(file, sep = ' ', names = ['unix_time', 'mains_active_p_w', 'mains_apparent_p_va', 'mains_rms_v' ], \n",
    "#                                        dtype = {'unix_time': 'float64', 'mains_active_p_w':'float64', 'mains_apparent_p_va': 'float64', 'mains_rms_v': 'float64'}) \n",
    "#     df['timestamp'] = df['unix_time'].astype(\"datetime64[s]\")\n",
    "    \n",
    "#     num_apps = len(glob.glob(path + 'channel_*[0-9].dat'))\n",
    "#     for i in range(1, num_apps + 1):\n",
    "    # tv_7, fridge_12, microwave_13, gas_oven_42\n",
    "    for i in [7, 12, 13, 42]:\n",
    "        file = path + 'channel_{}.dat'.format(i)\n",
    "        data = pd.read_table(file, sep = ' ', names = ['unix_time', labels[house][i]], \n",
    "                                       dtype = {'unix_time': 'int64', labels[house][i]:'float64'})\n",
    "#         data['timestamp'] = data['unix_time'].astype(\"datetime64[s]\")\n",
    "        df = pd.merge_asof(df, data, on = 'timestamp', by='timestamp', tolerance=pd.Timedelta('4s'))\n",
    "#         df = pd.merge(df, data, how = 'inner', on = 'unix_time')\n",
    "    df['timestamp'] = df['unix_time'].astype(\"datetime64[s]\")\n",
    "    df = df.set_index(df['timestamp'].values)\n",
    "    df.drop(['unix_time','timestamp'], axis=1, inplace=True)\n",
    "    return df\n",
    "df = {}\n",
    "# for i in range(1,3):\n",
    "#     df[i] = read_merge_data(i)\n",
    "for i in range(1,2):\n",
    "    df[i] = read_merge_data(i)"
   ]
  },
  {
   "cell_type": "code",
   "execution_count": 7,
   "metadata": {},
   "outputs": [
    {
     "name": "stdout",
     "output_type": "stream",
     "text": [
      "House 1 data has shape:  (0, 5)\n"
     ]
    },
    {
     "data": {
      "text/html": [
       "<div>\n",
       "<style scoped>\n",
       "    .dataframe tbody tr th:only-of-type {\n",
       "        vertical-align: middle;\n",
       "    }\n",
       "\n",
       "    .dataframe tbody tr th {\n",
       "        vertical-align: top;\n",
       "    }\n",
       "\n",
       "    .dataframe thead th {\n",
       "        text-align: right;\n",
       "    }\n",
       "</style>\n",
       "<table border=\"1\" class=\"dataframe\">\n",
       "  <thead>\n",
       "    <tr style=\"text-align: right;\">\n",
       "      <th></th>\n",
       "      <th>aggregate_1</th>\n",
       "      <th>tv_7</th>\n",
       "      <th>fridge_12</th>\n",
       "      <th>microwave_13</th>\n",
       "      <th>gas_oven_42</th>\n",
       "    </tr>\n",
       "  </thead>\n",
       "  <tbody>\n",
       "  </tbody>\n",
       "</table>\n",
       "</div>"
      ],
      "text/plain": [
       "Empty DataFrame\n",
       "Columns: [aggregate_1, tv_7, fridge_12, microwave_13, gas_oven_42]\n",
       "Index: []"
      ]
     },
     "metadata": {},
     "output_type": "display_data"
    }
   ],
   "source": [
    "for i in range(1,2):\n",
    "    print('House {} data has shape: '.format(i), df[i].shape)\n",
    "    display(df[i].tail(10))"
   ]
  },
  {
   "cell_type": "code",
   "execution_count": null,
   "metadata": {},
   "outputs": [],
   "source": [
    "from tensorflow.keras.models import Sequential\n",
    "from tensorflow.keras.layers import Dense, Flatten\n",
    "from tensorflow.keras.optimizers import Adam\n",
    "from tensorflow.keras.callbacks import Callback\n",
    "\n",
    "\n",
    "from timeit import default_timer as timer\n",
    "\n",
    "class TimingCallback(Callback):\n",
    "    def __init__(self, logs={}):\n",
    "        self.logs=[]\n",
    "    def on_epoch_begin(self, epoch, logs={}):\n",
    "        self.starttime = timer()\n",
    "    def on_epoch_end(self, epoch, logs={}):\n",
    "        self.logs.append(timer()-self.starttime)\n",
    "\n",
    "def compile_model(model):\n",
    "    # output the model's structure\n",
    "    model.summary()\n",
    "\n",
    "    # Model compilation\n",
    "    optimizer = Adam(lr=0.01)\n",
    "    model.compile(loss='categorical_crossentropy', optimizer=optimizer,metrics=['accuracy'])\n",
    "    time_cb = TimingCallback()\n",
    "    callbacks = [time_cb]\n",
    "\n",
    "    # Model Training\n",
    "    history = model.fit(x_train, y_onehot_train, epochs=10, batch_size=100, validation_data=(x_test, y_onehot_test), callbacks=callbacks)\n",
    "\n",
    "    return history, sum(time_cb.logs)\n",
    "\n",
    "\n",
    "model = Sequential()\n",
    "model.add(Dense(1000, activation='relu', input_dim = 784))\n",
    "model.add(Dense(1000, activation='relu'))\n",
    "model.add(Dense(10,activation='softmax'))\n",
    "\n",
    "\n",
    "\n",
    "history, time_spent = compile_model(model)\n",
    "view_model_results(model, history)\n",
    "print('Time spent', time_spent)\n"
   ]
  }
 ],
 "metadata": {
  "kernelspec": {
   "display_name": "Python 3 (ipykernel)",
   "language": "python",
   "name": "python3"
  },
  "language_info": {
   "codemirror_mode": {
    "name": "ipython",
    "version": 3
   },
   "file_extension": ".py",
   "mimetype": "text/x-python",
   "name": "python",
   "nbconvert_exporter": "python",
   "pygments_lexer": "ipython3",
   "version": "3.10.6 (main, Aug 11 2022, 13:49:25) [Clang 13.1.6 (clang-1316.0.21.2.5)]"
  },
  "vscode": {
   "interpreter": {
    "hash": "aee8b7b246df8f9039afb4144a1f6fd8d2ca17a180786b69acc140d282b71a49"
   }
  }
 },
 "nbformat": 4,
 "nbformat_minor": 2
}
